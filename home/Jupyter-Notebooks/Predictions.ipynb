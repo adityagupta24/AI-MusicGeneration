{
 "cells": [
  {
   "cell_type": "code",
   "execution_count": 1,
   "metadata": {
    "colab": {
     "base_uri": "https://localhost:8080/",
     "height": 33
    },
    "colab_type": "code",
    "id": "5g5gyZZXMHyu",
    "outputId": "2150b58e-6af7-4f4b-da09-6e9c8b65aa2f"
   },
   "outputs": [
    {
     "name": "stdout",
     "output_type": "stream",
     "text": [
      "Requirement already satisfied: music21 in /usr/local/lib/python3.6/dist-packages (5.5.0)\n"
     ]
    }
   ],
   "source": [
    "!pip install music21"
   ]
  },
  {
   "cell_type": "code",
   "execution_count": 2,
   "metadata": {
    "colab": {
     "base_uri": "https://localhost:8080/",
     "height": 50
    },
    "colab_type": "code",
    "id": "eFBpkmmWMHyy",
    "outputId": "d57a59dc-af5e-44e5-b40e-6016f2953f70"
   },
   "outputs": [
    {
     "name": "stdout",
     "output_type": "stream",
     "text": [
      "TensorFlow 1.x selected.\n"
     ]
    },
    {
     "name": "stderr",
     "output_type": "stream",
     "text": [
      "Using TensorFlow backend.\n"
     ]
    }
   ],
   "source": [
    "from music21 import converter,note,chord,stream,instrument\n",
    "import glob\n",
    "import pickle\n",
    "import numpy as np\n",
    "from keras.utils import np_utils\n",
    "import os\n",
    "from keras.models import Sequential,load_model\n",
    "from keras.layers import *\n",
    "from keras.callbacks import ModelCheckpoint,EarlyStopping\n",
    "from sklearn.metrics import classification_report,confusion_matrix\n",
    "from keras.optimizers import Adam"
   ]
  },
  {
   "cell_type": "markdown",
   "metadata": {
    "colab_type": "text",
    "id": "hhULHQ5IMHy1"
   },
   "source": [
    "## Reading notes file"
   ]
  },
  {
   "cell_type": "code",
   "execution_count": 0,
   "metadata": {
    "colab": {},
    "colab_type": "code",
    "id": "nG2TX_keMHzj"
   },
   "outputs": [],
   "source": [
    "with open('./drive/My Drive/PreprocessedData/notes','rb') as f:\n",
    "    notes = pickle.load(f)\n",
    "f.close()"
   ]
  },
  {
   "cell_type": "code",
   "execution_count": 20,
   "metadata": {
    "colab": {
     "base_uri": "https://localhost:8080/",
     "height": 50
    },
    "colab_type": "code",
    "id": "1rCWxRHvelCL",
    "outputId": "5185b4e7-16df-464c-e436-82a5ad7e48e3"
   },
   "outputs": [
    {
     "name": "stdout",
     "output_type": "stream",
     "text": [
      "65730\n",
      "381\n"
     ]
    }
   ],
   "source": [
    "n_vocab = len(set(notes))\n",
    "print(len(notes))\n",
    "print(n_vocab)"
   ]
  },
  {
   "cell_type": "markdown",
   "metadata": {
    "colab_type": "text",
    "id": "RMC4DcjDMHzl"
   },
   "source": [
    "## Generating the sequential data for the LSTM model"
   ]
  },
  {
   "cell_type": "code",
   "execution_count": 0,
   "metadata": {
    "colab": {},
    "colab_type": "code",
    "id": "8TwYkmgpMHzl"
   },
   "outputs": [],
   "source": [
    "snotes = sorted(set(notes))"
   ]
  },
  {
   "cell_type": "code",
   "execution_count": 0,
   "metadata": {
    "colab": {},
    "colab_type": "code",
    "id": "vpGmT1PUMHzp"
   },
   "outputs": [],
   "source": [
    "ele_int = dict((ele,idx) for idx,ele in enumerate(snotes))"
   ]
  },
  {
   "cell_type": "code",
   "execution_count": 0,
   "metadata": {
    "colab": {},
    "colab_type": "code",
    "id": "1ZnYe7tAMHzr"
   },
   "outputs": [],
   "source": [
    "sequence_length = 50\n",
    "\n",
    "network_input = []\n",
    "network_output = []\n",
    "\n",
    "for i in range(len(notes) - sequence_length):\n",
    "    seq_in = notes[i:i+sequence_length] # in the string format\n",
    "    seq_out = notes[i+sequence_length]\n",
    "    \n",
    "    network_input.append([ele_int[ch] for ch in seq_in])\n",
    "    network_output.append(ele_int[seq_out])"
   ]
  },
  {
   "cell_type": "code",
   "execution_count": 26,
   "metadata": {
    "colab": {
     "base_uri": "https://localhost:8080/",
     "height": 70
    },
    "colab_type": "code",
    "id": "XpFfqIknMHzu",
    "outputId": "4e102194-cb68-435f-92d6-7fa696b22046"
   },
   "outputs": [
    {
     "name": "stdout",
     "output_type": "stream",
     "text": [
      "65680\n",
      "[333, 352, 330, 333, 352, 330, 378, 378, 333, 333, 340, 66, 308, 340, 66, 308, 366, 366, 311, 311, 367, 275, 363, 367, 275, 363, 304, 275, 363, 304, 275, 363, 379, 83, 375, 379, 83, 375, 353, 333, 330, 353, 333, 330, 330, 330, 378, 378, 333, 333]\n"
     ]
    }
   ],
   "source": [
    "print(len(network_input))\n",
    "n_patterns = len(network_input)\n",
    "print(network_input[0])"
   ]
  },
  {
   "cell_type": "code",
   "execution_count": 27,
   "metadata": {
    "colab": {
     "base_uri": "https://localhost:8080/",
     "height": 33
    },
    "colab_type": "code",
    "id": "N5oKhEhwMHzx",
    "outputId": "a9cf2517-bbdd-438f-d2c5-5ce0e8051926"
   },
   "outputs": [
    {
     "name": "stdout",
     "output_type": "stream",
     "text": [
      "65680\n"
     ]
    }
   ],
   "source": [
    "print(len(network_output))"
   ]
  },
  {
   "cell_type": "code",
   "execution_count": 28,
   "metadata": {
    "colab": {
     "base_uri": "https://localhost:8080/",
     "height": 33
    },
    "colab_type": "code",
    "id": "8ibYT4VGMHz3",
    "outputId": "f6e65b7e-17bd-49eb-af71-104dce783da0"
   },
   "outputs": [
    {
     "name": "stdout",
     "output_type": "stream",
     "text": [
      "(65680, 50, 1)\n"
     ]
    }
   ],
   "source": [
    "network_input = np.reshape(network_input,(n_patterns,sequence_length,1))\n",
    "print(network_input.shape)"
   ]
  },
  {
   "cell_type": "code",
   "execution_count": 0,
   "metadata": {
    "colab": {},
    "colab_type": "code",
    "id": "v-zWS0WvMHz7"
   },
   "outputs": [],
   "source": [
    "# Normalize our data [0,1]\n",
    "normalized_network_input = network_input/float(n_vocab)\n",
    "#print(normalized_network_input)"
   ]
  },
  {
   "cell_type": "code",
   "execution_count": 30,
   "metadata": {
    "colab": {
     "base_uri": "https://localhost:8080/",
     "height": 33
    },
    "colab_type": "code",
    "id": "DY6us-o6MHz-",
    "outputId": "283dad80-9568-480f-e972-0f29e7cf0caf"
   },
   "outputs": [
    {
     "name": "stdout",
     "output_type": "stream",
     "text": [
      "(65680, 381)\n"
     ]
    }
   ],
   "source": [
    "# Converting the y values into one hot vectors\n",
    "network_output = np_utils.to_categorical(network_output)\n",
    "print(network_output.shape)"
   ]
  },
  {
   "cell_type": "code",
   "execution_count": 31,
   "metadata": {
    "colab": {
     "base_uri": "https://localhost:8080/",
     "height": 50
    },
    "colab_type": "code",
    "id": "n_9wCA3MMH0A",
    "outputId": "5fff952e-feb9-4fe2-d7bf-94ca1f0c6f40"
   },
   "outputs": [
    {
     "name": "stdout",
     "output_type": "stream",
     "text": [
      "(65680, 50, 1)\n",
      "(65680, 381)\n"
     ]
    }
   ],
   "source": [
    "print(normalized_network_input.shape)\n",
    "print(network_output.shape)"
   ]
  },
  {
   "cell_type": "markdown",
   "metadata": {
    "colab_type": "text",
    "id": "3PCPI2EEMH0E"
   },
   "source": [
    "## Loading the trained LSTM model"
   ]
  },
  {
   "cell_type": "code",
   "execution_count": 0,
   "metadata": {
    "colab": {},
    "colab_type": "code",
    "id": "j7tERquHMH0M"
   },
   "outputs": [],
   "source": [
    "model = load_model(\"model.hdf5\")"
   ]
  },
  {
   "cell_type": "markdown",
   "metadata": {
    "colab_type": "text",
    "id": "KXoKU91RMH0Q"
   },
   "source": [
    "## Making the predictions on the model"
   ]
  },
  {
   "cell_type": "code",
   "execution_count": 0,
   "metadata": {
    "colab": {},
    "colab_type": "code",
    "id": "8pwvSrXEMH0R"
   },
   "outputs": [],
   "source": [
    "sequence_length = 50\n",
    "network_input = []\n",
    "for i in range(len(notes) - sequence_length):\n",
    "    seq_in = notes[i:i+sequence_length] # in the string format\n",
    "    network_input.append([ele_int[ch] for ch in seq_in])"
   ]
  },
  {
   "cell_type": "code",
   "execution_count": 0,
   "metadata": {
    "colab": {},
    "colab_type": "code",
    "id": "YyHfQd66MH0T"
   },
   "outputs": [],
   "source": [
    "# Taking a random start sequence to generate the next sequence\n",
    "start = np.random.randint(len(network_input))\n",
    "pattern = network_input[start]\n",
    "prediction_output = []\n",
    "int_to_ele = dict((idx,ele)for idx,ele in enumerate(snotes))\n",
    "\n",
    "for i in range(200):\n",
    "    prediction_input = np.reshape(pattern,(1,sequence_length,1))\n",
    "    prediction_input = prediction_input/float(n_vocab)\n",
    "    \n",
    "    prediction = model.predict(prediction_input)\n",
    "    idx = np.argmax(prediction)\n",
    "    prediction_output.append(int_to_ele[idx])\n",
    "    \n",
    "    pattern.append(idx)\n",
    "    pattern = pattern[1:]    "
   ]
  },
  {
   "cell_type": "code",
   "execution_count": 114,
   "metadata": {
    "colab": {
     "base_uri": "https://localhost:8080/",
     "height": 53
    },
    "colab_type": "code",
    "id": "xAQJ1t_vMH0U",
    "outputId": "29e41711-6249-4233-a20b-effcdfa65d5f"
   },
   "outputs": [
    {
     "name": "stdout",
     "output_type": "stream",
     "text": [
      "['A4', '0+5', 'C5', 'A4', 'E5', 'C5', 'B4', 'D5', 'E5', '4+9', 'C5', 'A4', '0+5', '4+9', 'C5', 'A4', 'F#5', 'C5', 'A4', '0+5', 'C5', 'A4', 'E5', 'E3', 'C5', 'B2', 'B4', 'C3', 'D5', 'G#2', 'E5', '4+9', 'C5', 'A4', '0+5', '4+9', 'C5', 'A4', 'F#5', '4+9', 'C5', 'A4', '0+5', '4+9', 'C5', 'A4', 'E5', '4+9', 'C5', 'B4', '7', 'D5', 'E5', '4+9', 'C5', 'A4', '0+5', '4+9', 'C5', 'A4', 'F#5', '4+9', 'C5', 'A4', '0+5', '4+9', 'C5', 'A4', 'E5', '4+9', 'C5', 'B4', '7', 'D5', '9+0', '5', '4+7', '2+5', '7', '0+4', '11+2', '4', '0+4', 'E4', '2+5', '11', '11+2', '5', '7+11', '7', '9+0', '9', '11', '0', '4', 'A4', '5', 'F4', 'E5', 'A4', 'D5', '7', 'C5', 'A4', 'B4', '4', 'G4', 'C5', 'E4', 'D5', '11', 'G4', 'B4', '5', 'E4', 'G4', '7', 'E4', '4+9', '4+9', '4+9', '4+9', '4+9', '4+9', '2+7', '4+9', '4+9', '4+9', '4+9', '4+9', '2+7', 'E4', '4+9', 'A4', 'B4', 'C5', '4+9', 'B4', 'A4', 'E4', '4+9', 'C4', 'B3', '4+9', 'C4', 'A3', '4+9', 'C4', 'B3', '7', 'C4', 'D4', '5', 'E4', 'C4', '5', 'E4', 'D4', '4', 'E4', 'F4', 'B3', '2', 'C4', 'F4', '4+9', '4', 'D4', '4+8', '4', 'D4', 'A4', '4+9', 'E4', 'A4', 'C5', '4+9', 'B4', 'A4', 'E4', '4+9', 'C4', 'B3', '4+9', 'C4', 'A3', '4+9', 'C4', 'B3', '7', 'C4', 'D4', '5', 'E4', 'C4', '5', 'E4', 'D4', '4', 'E4']\n"
     ]
    }
   ],
   "source": [
    "print(prediction_output)"
   ]
  },
  {
   "cell_type": "markdown",
   "metadata": {
    "colab_type": "text",
    "id": "CzFmNeu_MH0W"
   },
   "source": [
    "## Creating a MIDI file to play the music generated by the model"
   ]
  },
  {
   "cell_type": "code",
   "execution_count": 0,
   "metadata": {
    "colab": {},
    "colab_type": "code",
    "id": "wEoCozxvMH0X"
   },
   "outputs": [],
   "source": [
    "output_notes = []\n",
    "offset = 0\n",
    "\n",
    "for pattern in prediction_output:\n",
    "    #if the pattern is a chord, then\n",
    "    if ('+' in pattern) or pattern.isdigit():\n",
    "        all_notes = pattern.split(\"+\")\n",
    "        temp_notes = []\n",
    "        #print(all_notes)\n",
    "        for current_note in all_notes:\n",
    "          new_note = note.Note(int(current_note))\n",
    "          new_note.storedInstrument = instrument.Piano()\n",
    "          temp_notes.append(new_note)\n",
    "        new_chord = chord.Chord(temp_notes) # It creates a chord with the help of the list of the notes\n",
    "        new_chord.storedInstrument = instrument.Piano()\n",
    "        output_notes.append(new_chord)\n",
    "        \n",
    "    else:\n",
    "        #if the pattern is a note,then\n",
    "        new_note = note.Note(pattern)\n",
    "        new_note.offset = offset\n",
    "        new_note.storedInstrument = instrument.Piano()\n",
    "        output_notes.append(new_note)\n",
    "    offset += 0.5"
   ]
  },
  {
   "cell_type": "code",
   "execution_count": 127,
   "metadata": {
    "colab": {
     "base_uri": "https://localhost:8080/",
     "height": 53
    },
    "colab_type": "code",
    "id": "u0e_dK2uMH0Y",
    "outputId": "0761c86b-be84-4fb7-834f-395f7c0e81b6"
   },
   "outputs": [
    {
     "name": "stdout",
     "output_type": "stream",
     "text": [
      "[<music21.note.Note A>, <music21.chord.Chord C F>, <music21.note.Note C>, <music21.note.Note A>, <music21.note.Note E>, <music21.note.Note C>, <music21.note.Note B>, <music21.note.Note D>, <music21.note.Note E>, <music21.chord.Chord E A>, <music21.note.Note C>, <music21.note.Note A>, <music21.chord.Chord C F>, <music21.chord.Chord E A>, <music21.note.Note C>, <music21.note.Note A>, <music21.note.Note F#>, <music21.note.Note C>, <music21.note.Note A>, <music21.chord.Chord C F>, <music21.note.Note C>, <music21.note.Note A>, <music21.note.Note E>, <music21.note.Note E>, <music21.note.Note C>, <music21.note.Note B>, <music21.note.Note B>, <music21.note.Note C>, <music21.note.Note D>, <music21.note.Note G#>, <music21.note.Note E>, <music21.chord.Chord E A>, <music21.note.Note C>, <music21.note.Note A>, <music21.chord.Chord C F>, <music21.chord.Chord E A>, <music21.note.Note C>, <music21.note.Note A>, <music21.note.Note F#>, <music21.chord.Chord E A>, <music21.note.Note C>, <music21.note.Note A>, <music21.chord.Chord C F>, <music21.chord.Chord E A>, <music21.note.Note C>, <music21.note.Note A>, <music21.note.Note E>, <music21.chord.Chord E A>, <music21.note.Note C>, <music21.note.Note B>, <music21.chord.Chord G>, <music21.note.Note D>, <music21.note.Note E>, <music21.chord.Chord E A>, <music21.note.Note C>, <music21.note.Note A>, <music21.chord.Chord C F>, <music21.chord.Chord E A>, <music21.note.Note C>, <music21.note.Note A>, <music21.note.Note F#>, <music21.chord.Chord E A>, <music21.note.Note C>, <music21.note.Note A>, <music21.chord.Chord C F>, <music21.chord.Chord E A>, <music21.note.Note C>, <music21.note.Note A>, <music21.note.Note E>, <music21.chord.Chord E A>, <music21.note.Note C>, <music21.note.Note B>, <music21.chord.Chord G>, <music21.note.Note D>, <music21.chord.Chord A C>, <music21.chord.Chord F>, <music21.chord.Chord E G>, <music21.chord.Chord D F>, <music21.chord.Chord G>, <music21.chord.Chord C E>, <music21.chord.Chord B D>, <music21.chord.Chord E>, <music21.chord.Chord C E>, <music21.note.Note E>, <music21.chord.Chord D F>, <music21.chord.Chord B>, <music21.chord.Chord B D>, <music21.chord.Chord F>, <music21.chord.Chord G B>, <music21.chord.Chord G>, <music21.chord.Chord A C>, <music21.chord.Chord A>, <music21.chord.Chord B>, <music21.chord.Chord C>, <music21.chord.Chord E>, <music21.note.Note A>, <music21.chord.Chord F>, <music21.note.Note F>, <music21.note.Note E>, <music21.note.Note A>, <music21.note.Note D>, <music21.chord.Chord G>, <music21.note.Note C>, <music21.note.Note A>, <music21.note.Note B>, <music21.chord.Chord E>, <music21.note.Note G>, <music21.note.Note C>, <music21.note.Note E>, <music21.note.Note D>, <music21.chord.Chord B>, <music21.note.Note G>, <music21.note.Note B>, <music21.chord.Chord F>, <music21.note.Note E>, <music21.note.Note G>, <music21.chord.Chord G>, <music21.note.Note E>, <music21.chord.Chord E A>, <music21.chord.Chord E A>, <music21.chord.Chord E A>, <music21.chord.Chord E A>, <music21.chord.Chord E A>, <music21.chord.Chord E A>, <music21.chord.Chord D G>, <music21.chord.Chord E A>, <music21.chord.Chord E A>, <music21.chord.Chord E A>, <music21.chord.Chord E A>, <music21.chord.Chord E A>, <music21.chord.Chord D G>, <music21.note.Note E>, <music21.chord.Chord E A>, <music21.note.Note A>, <music21.note.Note B>, <music21.note.Note C>, <music21.chord.Chord E A>, <music21.note.Note B>, <music21.note.Note A>, <music21.note.Note E>, <music21.chord.Chord E A>, <music21.note.Note C>, <music21.note.Note B>, <music21.chord.Chord E A>, <music21.note.Note C>, <music21.note.Note A>, <music21.chord.Chord E A>, <music21.note.Note C>, <music21.note.Note B>, <music21.chord.Chord G>, <music21.note.Note C>, <music21.note.Note D>, <music21.chord.Chord F>, <music21.note.Note E>, <music21.note.Note C>, <music21.chord.Chord F>, <music21.note.Note E>, <music21.note.Note D>, <music21.chord.Chord E>, <music21.note.Note E>, <music21.note.Note F>, <music21.note.Note B>, <music21.chord.Chord D>, <music21.note.Note C>, <music21.note.Note F>, <music21.chord.Chord E A>, <music21.chord.Chord E>, <music21.note.Note D>, <music21.chord.Chord E G#>, <music21.chord.Chord E>, <music21.note.Note D>, <music21.note.Note A>, <music21.chord.Chord E A>, <music21.note.Note E>, <music21.note.Note A>, <music21.note.Note C>, <music21.chord.Chord E A>, <music21.note.Note B>, <music21.note.Note A>, <music21.note.Note E>, <music21.chord.Chord E A>, <music21.note.Note C>, <music21.note.Note B>, <music21.chord.Chord E A>, <music21.note.Note C>, <music21.note.Note A>, <music21.chord.Chord E A>, <music21.note.Note C>, <music21.note.Note B>, <music21.chord.Chord G>, <music21.note.Note C>, <music21.note.Note D>, <music21.chord.Chord F>, <music21.note.Note E>, <music21.note.Note C>, <music21.chord.Chord F>, <music21.note.Note E>, <music21.note.Note D>, <music21.chord.Chord E>, <music21.note.Note E>]\n"
     ]
    }
   ],
   "source": [
    "print(output_notes)"
   ]
  },
  {
   "cell_type": "code",
   "execution_count": 128,
   "metadata": {
    "colab": {
     "base_uri": "https://localhost:8080/",
     "height": 33
    },
    "colab_type": "code",
    "id": "yXNiudIvMH0b",
    "outputId": "2f8023d4-674b-42c9-fbfd-ab67d2d1b36b"
   },
   "outputs": [
    {
     "data": {
      "text/plain": [
       "'/content/drive/My Drive/MLplayground/output1.mid'"
      ]
     },
     "execution_count": 128,
     "metadata": {
      "tags": []
     },
     "output_type": "execute_result"
    }
   ],
   "source": [
    "midi_stream = stream.Stream(output_notes)\n",
    "midi_stream.write(\"midi\",\"/content/drive/My Drive/MLplayground/output1.mid\")"
   ]
  },
  {
   "cell_type": "code",
   "execution_count": 129,
   "metadata": {
    "colab": {
     "base_uri": "https://localhost:8080/",
     "height": 17
    },
    "colab_type": "code",
    "id": "TJAucaZFMH0f",
    "outputId": "ee187315-e923-4497-c261-28ecde416670"
   },
   "outputs": [
    {
     "data": {
      "text/html": [
       "\n",
       "                <div id='midiPlayerDiv476214'></div>\n",
       "                <link rel=\"stylesheet\" href=\"//cuthbertLab.github.io/music21j/css/m21.css\"\n",
       "                    type=\"text/css\" />\n",
       "                <script>\n",
       "                require.config({\n",
       "                    paths: {'music21': '//cuthbertLab.github.io/music21j/src/music21'}\n",
       "                });\n",
       "                require(['music21'], function() {\n",
       "                               mp = new music21.miditools.MidiPlayer();\n",
       "                               mp.addPlayer('#midiPlayerDiv476214');\n",
       "                               mp.base64Load('data:audio/midi;base64,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');\n",
       "                        });\n",
       "                </script>"
      ],
      "text/plain": [
       "<IPython.core.display.HTML object>"
      ]
     },
     "metadata": {
      "tags": []
     },
     "output_type": "display_data"
    }
   ],
   "source": [
    "midi_stream.show('midi')"
   ]
  },
  {
   "cell_type": "code",
   "execution_count": 0,
   "metadata": {
    "colab": {},
    "colab_type": "code",
    "id": "QRoZeX1rUQLi"
   },
   "outputs": [],
   "source": []
  }
 ],
 "metadata": {
  "accelerator": "GPU",
  "colab": {
   "collapsed_sections": [],
   "name": "MusicGeneration.ipynb",
   "provenance": [],
   "toc_visible": true
  },
  "kernelspec": {
   "display_name": "Python 3",
   "language": "python",
   "name": "python3"
  },
  "language_info": {
   "codemirror_mode": {
    "name": "ipython",
    "version": 3
   },
   "file_extension": ".py",
   "mimetype": "text/x-python",
   "name": "python",
   "nbconvert_exporter": "python",
   "pygments_lexer": "ipython3",
   "version": "3.7.4"
  }
 },
 "nbformat": 4,
 "nbformat_minor": 1
}
